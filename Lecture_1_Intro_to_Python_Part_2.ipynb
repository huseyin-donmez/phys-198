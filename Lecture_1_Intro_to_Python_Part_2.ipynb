{
  "nbformat": 4,
  "nbformat_minor": 0,
  "metadata": {
    "anaconda-cloud": {},
    "colab": {
      "provenance": [],
      "include_colab_link": true
    },
    "kernelspec": {
      "display_name": "Python [conda env:anaconda2]",
      "language": "python",
      "name": "conda-env-anaconda2-py"
    },
    "language_info": {
      "codemirror_mode": {
        "name": "ipython",
        "version": 2
      },
      "file_extension": ".py",
      "mimetype": "text/x-python",
      "name": "python",
      "nbconvert_exporter": "python",
      "pygments_lexer": "ipython2",
      "version": "2.7.6"
    }
  },
  "cells": [
    {
      "cell_type": "markdown",
      "metadata": {
        "id": "view-in-github",
        "colab_type": "text"
      },
      "source": [
        "<a href=\"https://colab.research.google.com/github/huseyin-donmez/phys-198/blob/master/Lecture_1_Intro_to_Python_Part_2.ipynb\" target=\"_parent\"><img src=\"https://colab.research.google.com/assets/colab-badge.svg\" alt=\"Open In Colab\"/></a>"
      ]
    },
    {
      "cell_type": "markdown",
      "source": [
        "# Comments & Recap"
      ],
      "metadata": {
        "id": "n1Nk4-ohzABP"
      }
    },
    {
      "cell_type": "markdown",
      "source": [
        "### Last time\n",
        "- print\n",
        "- variables\n",
        "- importing packages (numpy, np, square root)\n",
        "- strings vs numbers\n",
        "  - \"adding\" strings\n",
        "- error messages\n",
        "\n",
        "### This time\n",
        "- continue with fundamentals of python\n",
        "- Python Data Types (lists, integers, floats, tuples, dictionaries)\n",
        "- Conditionals"
      ],
      "metadata": {
        "id": "fJe1qrubzEK4"
      }
    },
    {
      "cell_type": "markdown",
      "metadata": {
        "id": "3vFn2HcbN39X"
      },
      "source": [
        "# Lists"
      ]
    },
    {
      "cell_type": "markdown",
      "metadata": {
        "id": "xYz2K3tbN39Y"
      },
      "source": [
        "- We saw numbers and strings\n",
        "  - Numbers actually come in more than one type, but let's leave that for now\n",
        "- A **list** holds a list of multiple values:\n",
        "- We use brackets and commas to separate the values we want to include in our list"
      ]
    },
    {
      "cell_type": "code",
      "metadata": {
        "id": "u06joFe2N39Z"
      },
      "source": [
        "l = [10, 20, 30, 40] # note that this is the \"letter l\", not the number one (and this is a comment since it comes after the # sign)"
      ],
      "execution_count": null,
      "outputs": []
    },
    {
      "cell_type": "code",
      "metadata": {
        "id": "SZKEsoO7N39a"
      },
      "source": [
        "print(l)"
      ],
      "execution_count": null,
      "outputs": []
    },
    {
      "cell_type": "markdown",
      "metadata": {
        "id": "e2iKtrgnN39c"
      },
      "source": [
        "You can access individual elements of the list using indexing with brackets\n",
        "- We count elements starting from **zero**\n",
        "- **not** one"
      ]
    },
    {
      "cell_type": "code",
      "source": [
        "l[2]"
      ],
      "metadata": {
        "id": "BRo9AuPoh-M0"
      },
      "execution_count": null,
      "outputs": []
    },
    {
      "cell_type": "code",
      "metadata": {
        "id": "vA-0TonRN39d"
      },
      "source": [
        "print(l[0])"
      ],
      "execution_count": null,
      "outputs": []
    },
    {
      "cell_type": "code",
      "metadata": {
        "id": "fx6kWfWdN39h"
      },
      "source": [
        "print(l[1])"
      ],
      "execution_count": null,
      "outputs": []
    },
    {
      "cell_type": "markdown",
      "metadata": {
        "id": "FvclarcbN39i"
      },
      "source": [
        "This is a big, common source of confusion. Keep this in mind. Always double, triple check your indices for off-by-one errors."
      ]
    },
    {
      "cell_type": "markdown",
      "metadata": {
        "id": "8lqDIdwJN39j"
      },
      "source": [
        "Let's lear a new function, one that is relevant for lists\n",
        "- To learn the length of a list, we use `len()`"
      ]
    },
    {
      "cell_type": "code",
      "metadata": {
        "id": "n0sKgpxDN39k"
      },
      "source": [
        "len(l)"
      ],
      "execution_count": null,
      "outputs": []
    },
    {
      "cell_type": "markdown",
      "metadata": {
        "id": "K7XCqY1XN39m"
      },
      "source": [
        "Could've printed this, too, with `print(len(l))`\n",
        "\n",
        "Let us print the last element of the list. The number of elements is `len(l)`, but since we start counting at zero, we subtract one to obtain the last element (what happens if we don't? try if you want):"
      ]
    },
    {
      "cell_type": "code",
      "metadata": {
        "id": "FuysGIp0uZ5C"
      },
      "source": [
        "print(l[len(l)-1])"
      ],
      "execution_count": null,
      "outputs": []
    },
    {
      "cell_type": "code",
      "source": [
        "l[-1]"
      ],
      "metadata": {
        "id": "lV4BMOQ3i8GM"
      },
      "execution_count": null,
      "outputs": []
    },
    {
      "cell_type": "markdown",
      "metadata": {
        "id": "P4MOX8FbN39m"
      },
      "source": [
        "We can change individual elements of a list using the (confusing) equals sign"
      ]
    },
    {
      "cell_type": "code",
      "metadata": {
        "id": "sbneDbc7N39n"
      },
      "source": [
        "l[1] = 1000"
      ],
      "execution_count": null,
      "outputs": []
    },
    {
      "cell_type": "code",
      "metadata": {
        "id": "G1GxLLeEN39o"
      },
      "source": [
        "print(l)"
      ],
      "execution_count": null,
      "outputs": []
    },
    {
      "cell_type": "markdown",
      "metadata": {
        "id": "iBQgMkjzJqn1"
      },
      "source": [
        "The second element is now changed."
      ]
    },
    {
      "cell_type": "markdown",
      "metadata": {
        "id": "z3sOL91VN39q"
      },
      "source": [
        "Can access the last element in different ways:"
      ]
    },
    {
      "cell_type": "code",
      "metadata": {
        "id": "XmQcYqlVN39q"
      },
      "source": [
        "print(l[3])"
      ],
      "execution_count": null,
      "outputs": []
    },
    {
      "cell_type": "markdown",
      "source": [
        "This one is maybe a bit of a surprise:"
      ],
      "metadata": {
        "id": "f8uSN_-GO-eq"
      }
    },
    {
      "cell_type": "code",
      "metadata": {
        "id": "3KpOvmmfN39s"
      },
      "source": [
        "print(l[-1])"
      ],
      "execution_count": null,
      "outputs": []
    },
    {
      "cell_type": "code",
      "metadata": {
        "id": "PFzkq7wTN39t"
      },
      "source": [
        "length_of_l = len(l)"
      ],
      "execution_count": null,
      "outputs": []
    },
    {
      "cell_type": "code",
      "metadata": {
        "id": "WqYOek6QN390"
      },
      "source": [
        "print(l[length_of_l - 1])"
      ],
      "execution_count": null,
      "outputs": []
    },
    {
      "cell_type": "markdown",
      "metadata": {
        "id": "13uHNjjoN391"
      },
      "source": [
        "Now that we know two functions, print and len, let's say this again:\n",
        "- Remember, don't use existing names as variable names"
      ]
    },
    {
      "cell_type": "markdown",
      "source": [
        "## Aspects of Lists:"
      ],
      "metadata": {
        "id": "kIhbvVx3AbMv"
      }
    },
    {
      "cell_type": "markdown",
      "source": [
        "### 1- Lists can be \"heterogeneous\""
      ],
      "metadata": {
        "id": "cP49zENvAfVk"
      }
    },
    {
      "cell_type": "markdown",
      "source": [
        "List element types do not need to be uniform, you can combine numbers with strings and Booleans, etc."
      ],
      "metadata": {
        "id": "WL8M7JoEAwuL"
      }
    },
    {
      "cell_type": "code",
      "source": [
        "l1 = [1, 'a', 'hello', 3.14, True, False]"
      ],
      "metadata": {
        "id": "70JvMJvZAx-w"
      },
      "execution_count": null,
      "outputs": []
    },
    {
      "cell_type": "code",
      "source": [
        "print(l1)"
      ],
      "metadata": {
        "id": "EZWMWOpZA0Ze"
      },
      "execution_count": null,
      "outputs": []
    },
    {
      "cell_type": "markdown",
      "source": [
        "We can even use lists as elements of a list:"
      ],
      "metadata": {
        "id": "yJ1ew-eIA78L"
      }
    },
    {
      "cell_type": "code",
      "source": [
        "ll = [1, 2, [10, 20]]\n",
        "print(ll)"
      ],
      "metadata": {
        "id": "nfObyk2pA-md"
      },
      "execution_count": null,
      "outputs": []
    },
    {
      "cell_type": "code",
      "source": [
        "print(ll[2])"
      ],
      "metadata": {
        "id": "Xj9_apjsBArE"
      },
      "execution_count": null,
      "outputs": []
    },
    {
      "cell_type": "code",
      "source": [
        "l2 = [[1, 2], [2, 3]]"
      ],
      "metadata": {
        "id": "WiSSwR5dBDa0"
      },
      "execution_count": null,
      "outputs": []
    },
    {
      "cell_type": "markdown",
      "source": [
        "### 2-Adding lists means concatenating them"
      ],
      "metadata": {
        "id": "UdbMiZ64BGiH"
      }
    },
    {
      "cell_type": "markdown",
      "source": [
        "Adding lists:"
      ],
      "metadata": {
        "id": "8FgTvd9wBMxO"
      }
    },
    {
      "cell_type": "code",
      "source": [
        "l1 = [ 1, 2, 3]\n",
        "l2 = [30,20,10]"
      ],
      "metadata": {
        "id": "sABuSQiaBO0T"
      },
      "execution_count": null,
      "outputs": []
    },
    {
      "cell_type": "code",
      "source": [
        "l3 = l1 + l2"
      ],
      "metadata": {
        "id": "clrLWlpDBQdC"
      },
      "execution_count": null,
      "outputs": []
    },
    {
      "cell_type": "code",
      "source": [
        "print(l3)"
      ],
      "metadata": {
        "id": "mXfaM7VaBSDE"
      },
      "execution_count": null,
      "outputs": []
    },
    {
      "cell_type": "code",
      "source": [
        "l1"
      ],
      "metadata": {
        "id": "LGf2nUTXBUFI"
      },
      "execution_count": null,
      "outputs": []
    },
    {
      "cell_type": "code",
      "source": [
        "print(l1)\n",
        "l1 = l1 + [4]\n",
        "print(l1)"
      ],
      "metadata": {
        "id": "K-Ug3b49BWqQ"
      },
      "execution_count": null,
      "outputs": []
    },
    {
      "cell_type": "markdown",
      "source": [
        "## List Methods"
      ],
      "metadata": {
        "id": "txEW3_pEBbIi"
      }
    },
    {
      "cell_type": "markdown",
      "source": [
        "Lists have various **methods**.\n",
        "\n",
        "The notion of a **method**:\n",
        "- Certain objects in Python have functions/commands \"attached\" to them\n",
        "- Remember `numpy.sqrt`: There, we had a command within a package\n",
        "- But simpler things like lists can also have commands attached to them\n",
        "- Often, these commands do something to the object at hand\n",
        "\n",
        "Commands attached to an object are called \"methods\" of the object"
      ],
      "metadata": {
        "id": "IA2BQWKHBpF9"
      }
    },
    {
      "cell_type": "markdown",
      "source": [
        "### Appending to a list\n"
      ],
      "metadata": {
        "id": "kohMK2nUB0-K"
      }
    },
    {
      "cell_type": "markdown",
      "source": [
        "To append an element to a list, use: `mylist.append(myelement)`\n",
        "\n",
        "(Here, `mylist` is the name of the list variable, and `myelement` is the name of the element you want to append. Replace these with with the name of your list and the value you want to append, respectively)"
      ],
      "metadata": {
        "id": "jQF0mSwcB7oD"
      }
    },
    {
      "cell_type": "code",
      "source": [
        "print(l3)"
      ],
      "metadata": {
        "id": "gYBOAiP_CCLO"
      },
      "execution_count": null,
      "outputs": []
    },
    {
      "cell_type": "code",
      "source": [
        "l3.append(1000)"
      ],
      "metadata": {
        "id": "9-Vkd3IWCCo1"
      },
      "execution_count": null,
      "outputs": []
    },
    {
      "cell_type": "code",
      "source": [
        "print(l3)"
      ],
      "metadata": {
        "id": "n2w2tjFXCEOA"
      },
      "execution_count": null,
      "outputs": []
    },
    {
      "cell_type": "markdown",
      "source": [
        "### Sorting a list"
      ],
      "metadata": {
        "id": "970oHOaACQOO"
      }
    },
    {
      "cell_type": "markdown",
      "source": [
        "Sorting the elements of a list is simple:"
      ],
      "metadata": {
        "id": "ZjO2OD0mCMwe"
      }
    },
    {
      "cell_type": "code",
      "source": [
        "l2"
      ],
      "metadata": {
        "id": "h1S7H8h9CZNH"
      },
      "execution_count": null,
      "outputs": []
    },
    {
      "cell_type": "code",
      "source": [
        "l2.sort()"
      ],
      "metadata": {
        "id": "tYtoEhiQCcIg"
      },
      "execution_count": null,
      "outputs": []
    },
    {
      "cell_type": "code",
      "source": [
        "print(l2)"
      ],
      "metadata": {
        "id": "GWgW3pOoCf2F"
      },
      "execution_count": null,
      "outputs": []
    },
    {
      "cell_type": "markdown",
      "source": [
        "Another way of getting a sorted version of a list:"
      ],
      "metadata": {
        "id": "EbZ1vJ-eCiZF"
      }
    },
    {
      "cell_type": "code",
      "source": [
        "l2 = [30, 20, 10]"
      ],
      "metadata": {
        "id": "WX-Y-U5FCqu8"
      },
      "execution_count": null,
      "outputs": []
    },
    {
      "cell_type": "code",
      "source": [
        "sorted(l2)"
      ],
      "metadata": {
        "id": "1Z34tkL0Ctyl"
      },
      "execution_count": null,
      "outputs": []
    },
    {
      "cell_type": "markdown",
      "source": [
        "Note that `l2` is not modified by `sorted`\n",
        "\n",
        "- Commentary on the notion of **side effects** and **pure functions**"
      ],
      "metadata": {
        "id": "YCyKEX3uCxLu"
      }
    },
    {
      "cell_type": "code",
      "source": [
        "print(l2)"
      ],
      "metadata": {
        "id": "oYo_dahNC3Bc"
      },
      "execution_count": null,
      "outputs": []
    },
    {
      "cell_type": "markdown",
      "source": [
        "What are the available methods? Use the `dir()` function."
      ],
      "metadata": {
        "id": "6LI7x4rMC3vL"
      }
    },
    {
      "cell_type": "code",
      "source": [
        "dir(l2)"
      ],
      "metadata": {
        "id": "Ol5uE7q6C62w"
      },
      "execution_count": null,
      "outputs": []
    },
    {
      "cell_type": "markdown",
      "source": [
        "### A few other methods for lists"
      ],
      "metadata": {
        "id": "Zu7vh0Q8C9md"
      }
    },
    {
      "cell_type": "markdown",
      "source": [
        "Count the number of times a value occurs"
      ],
      "metadata": {
        "id": "H4AYU90YDGhH"
      }
    },
    {
      "cell_type": "code",
      "source": [
        "l2"
      ],
      "metadata": {
        "id": "7BtMZgL_DHdJ"
      },
      "execution_count": null,
      "outputs": []
    },
    {
      "cell_type": "code",
      "source": [
        "l2.count(10)"
      ],
      "metadata": {
        "id": "N4YDJEOiDIzW"
      },
      "execution_count": null,
      "outputs": []
    },
    {
      "cell_type": "markdown",
      "source": [
        "Give the location of a given value"
      ],
      "metadata": {
        "id": "-UY7bEOiDPF-"
      }
    },
    {
      "cell_type": "code",
      "source": [
        "l2"
      ],
      "metadata": {
        "id": "wDfFaQHHDQZ9"
      },
      "execution_count": null,
      "outputs": []
    },
    {
      "cell_type": "code",
      "source": [
        "help(l2.index)"
      ],
      "metadata": {
        "id": "lsCpkZvEDSgN"
      },
      "execution_count": null,
      "outputs": []
    },
    {
      "cell_type": "markdown",
      "source": [
        "What happens if the value occurs more than once?"
      ],
      "metadata": {
        "id": "vIAhQ3uuDbaJ"
      }
    },
    {
      "cell_type": "markdown",
      "source": [
        "# Exercise: Swap first and last elements in the list"
      ],
      "metadata": {
        "id": "ZConbm4fDJD_"
      }
    },
    {
      "cell_type": "markdown",
      "source": [
        "Given a defined list\n",
        "\n",
        "```\n",
        "mylist = [1,2,3,4,5,6,7]\n",
        "```\n",
        "Change the first and the last elements in the list, and print the newly arranged list.\n",
        "\n",
        "Hint: First, you can try to do this by assigning a different variable. If you feel up to it, try to do the first of the exercises for the adventurous where you implement the code without assigning a new variable!\n",
        "\n"
      ],
      "metadata": {
        "id": "ByrQw8ZsDPtX"
      }
    },
    {
      "cell_type": "code",
      "source": [
        "mylist = [1,2,3,4,5,6,7]"
      ],
      "metadata": {
        "id": "uMCv-ckDDoVf"
      },
      "execution_count": null,
      "outputs": []
    },
    {
      "cell_type": "code",
      "source": [
        "#Your code for the assignment goes here"
      ],
      "metadata": {
        "id": "-e6NiP4iDqr0"
      },
      "execution_count": null,
      "outputs": []
    },
    {
      "cell_type": "markdown",
      "source": [
        "After you are done, paste the code you have written into the moodle quiz."
      ],
      "metadata": {
        "id": "ZU0efdQ-Dzy3"
      }
    },
    {
      "cell_type": "markdown",
      "source": [
        "# Additional Data Types"
      ],
      "metadata": {
        "id": "mqx_RN5RE9Z2"
      }
    },
    {
      "cell_type": "markdown",
      "source": [
        "## Integers"
      ],
      "metadata": {
        "id": "Gzxpgnl0FEnw"
      }
    },
    {
      "cell_type": "markdown",
      "source": [
        "Integer division and remainders"
      ],
      "metadata": {
        "id": "Amr16Ce0FGfr"
      }
    },
    {
      "cell_type": "code",
      "source": [
        "1/2"
      ],
      "metadata": {
        "id": "xCShAr8QFJNG"
      },
      "execution_count": null,
      "outputs": []
    },
    {
      "cell_type": "code",
      "source": [
        "1 % 2"
      ],
      "metadata": {
        "id": "oTUrmGWMFLiB"
      },
      "execution_count": null,
      "outputs": []
    },
    {
      "cell_type": "code",
      "source": [
        "1 // 2"
      ],
      "metadata": {
        "id": "vOLRKvr1FNH2"
      },
      "execution_count": null,
      "outputs": []
    },
    {
      "cell_type": "markdown",
      "source": [
        "You can turn strings into integers by using the `int()` function\n",
        "\n"
      ],
      "metadata": {
        "id": "76imP6miHED4"
      }
    },
    {
      "cell_type": "code",
      "source": [
        "s1 = \"3\""
      ],
      "metadata": {
        "id": "CEp7hRVxHg6W"
      },
      "execution_count": null,
      "outputs": []
    },
    {
      "cell_type": "code",
      "source": [
        "print(type(s1))"
      ],
      "metadata": {
        "id": "ciWRySppHkH2"
      },
      "execution_count": null,
      "outputs": []
    },
    {
      "cell_type": "code",
      "source": [
        "i1 = int(s1)"
      ],
      "metadata": {
        "id": "lWa3fiDCHlo-"
      },
      "execution_count": null,
      "outputs": []
    },
    {
      "cell_type": "code",
      "source": [
        "print(i1)\n",
        "print(type(i1))"
      ],
      "metadata": {
        "id": "s6qCmFA4HqKb"
      },
      "execution_count": null,
      "outputs": []
    },
    {
      "cell_type": "markdown",
      "source": [
        "This doesn't work with all strings"
      ],
      "metadata": {
        "id": "FW-WZt84HvCl"
      }
    },
    {
      "cell_type": "code",
      "source": [
        "s2 = \"phys198\""
      ],
      "metadata": {
        "id": "kMnJOUNTHzf1"
      },
      "execution_count": null,
      "outputs": []
    },
    {
      "cell_type": "code",
      "source": [
        "i2 = int(s2)"
      ],
      "metadata": {
        "id": "_c5S4tl3H3rf"
      },
      "execution_count": null,
      "outputs": []
    },
    {
      "cell_type": "markdown",
      "source": [
        "##Floats"
      ],
      "metadata": {
        "id": "EzZib7Q7FR0n"
      }
    },
    {
      "cell_type": "code",
      "source": [
        "num = 3.14"
      ],
      "metadata": {
        "id": "dbHpzJ19Fm79"
      },
      "execution_count": null,
      "outputs": []
    },
    {
      "cell_type": "code",
      "source": [
        "print(type(num))"
      ],
      "metadata": {
        "id": "G58Rn71dFpQc"
      },
      "execution_count": null,
      "outputs": []
    },
    {
      "cell_type": "markdown",
      "source": [
        "Mathematical operations are the same as the integers"
      ],
      "metadata": {
        "id": "U9RzVCegFvdT"
      }
    },
    {
      "cell_type": "code",
      "source": [
        "flt1 = 3.10\n",
        "flt2 = 0.05"
      ],
      "metadata": {
        "id": "ASlCsiB3F0_K"
      },
      "execution_count": null,
      "outputs": []
    },
    {
      "cell_type": "code",
      "source": [
        "flt3 = 3.10 + 0.05"
      ],
      "metadata": {
        "id": "sxw0qTRDF5xJ"
      },
      "execution_count": null,
      "outputs": []
    },
    {
      "cell_type": "code",
      "source": [
        "print(flt3)"
      ],
      "metadata": {
        "id": "kohJazdIF7_T"
      },
      "execution_count": null,
      "outputs": []
    },
    {
      "cell_type": "markdown",
      "source": [
        "You can change integers into floats by using the `float()` function\n",
        "\n",
        "\n",
        "\n",
        "\n"
      ],
      "metadata": {
        "id": "ssuzB3-FGBs8"
      }
    },
    {
      "cell_type": "code",
      "source": [
        "a = 3"
      ],
      "metadata": {
        "id": "1zDjE2z7GqWh"
      },
      "execution_count": null,
      "outputs": []
    },
    {
      "cell_type": "code",
      "source": [
        "print(type(a))"
      ],
      "metadata": {
        "id": "VH3pJ4DvGvLG"
      },
      "execution_count": null,
      "outputs": []
    },
    {
      "cell_type": "code",
      "source": [
        "b = float(a)"
      ],
      "metadata": {
        "id": "K99Xyfm6GwgO"
      },
      "execution_count": null,
      "outputs": []
    },
    {
      "cell_type": "code",
      "source": [
        "print(b)\n",
        "print(type(b))"
      ],
      "metadata": {
        "id": "TkGvm1mZGyMr"
      },
      "execution_count": null,
      "outputs": []
    },
    {
      "cell_type": "markdown",
      "source": [
        "## Tuples"
      ],
      "metadata": {
        "id": "Hb5rvBfeIDh3"
      }
    },
    {
      "cell_type": "markdown",
      "source": [
        "Just like lists, using parentheses instead of brackets.\n",
        "Main/important difference: you can't modify individual elements once the tuple is set:"
      ],
      "metadata": {
        "id": "vbAP26F7IFkA"
      }
    },
    {
      "cell_type": "code",
      "source": [
        "l = [1, 2, 3]\n",
        "t = (1, 2, 3)"
      ],
      "metadata": {
        "id": "HQqpu670IRzK"
      },
      "execution_count": null,
      "outputs": []
    },
    {
      "cell_type": "code",
      "source": [
        "print(t)"
      ],
      "metadata": {
        "id": "7rXMRIGFISUw"
      },
      "execution_count": null,
      "outputs": []
    },
    {
      "cell_type": "code",
      "source": [
        "print(t[2])"
      ],
      "metadata": {
        "id": "-Y2yZGRpIUT8"
      },
      "execution_count": null,
      "outputs": []
    },
    {
      "cell_type": "code",
      "source": [
        "l[1] = 1000"
      ],
      "metadata": {
        "id": "ul6Qb4wRIV4T"
      },
      "execution_count": null,
      "outputs": []
    },
    {
      "cell_type": "code",
      "source": [
        "l"
      ],
      "metadata": {
        "id": "qwvjXiDzIXfI"
      },
      "execution_count": null,
      "outputs": []
    },
    {
      "cell_type": "code",
      "source": [
        "t[0] = 10"
      ],
      "metadata": {
        "id": "zXNUZSo1IZYz"
      },
      "execution_count": null,
      "outputs": []
    },
    {
      "cell_type": "markdown",
      "source": [
        "But: There is a twist to this story!"
      ],
      "metadata": {
        "id": "d6V72f9wIb0f"
      }
    },
    {
      "cell_type": "markdown",
      "source": [
        "## Dictionaries"
      ],
      "metadata": {
        "id": "IJQpAbe7Il6o"
      }
    },
    {
      "cell_type": "markdown",
      "source": [
        "Say we want to record the grades of each student. We could have a list for student names, and another list for grades."
      ],
      "metadata": {
        "id": "FZvskGtyIqjM"
      }
    },
    {
      "cell_type": "code",
      "source": [
        "names = ['arkadas', 'hikmet']\n",
        "grades = [5, 10]"
      ],
      "metadata": {
        "id": "YP-lwAZJItAB"
      },
      "execution_count": null,
      "outputs": []
    },
    {
      "cell_type": "markdown",
      "source": [
        "What's the grade of Arkadas? First find the order of Arkadas in the `names` list, then check the corresponding element in the `grades` list.\n",
        "\n",
        "Not difficult, but cumbersome.\n",
        "\n",
        "> Civilization advances by extending the number of important operations which we can perform without thinking about them.\n",
        ">\n",
        "> --[Alfred N. Whitehead](https://en.wikiquote.org/wiki/Alfred_North_Whitehead#:~:text=Civilization%20advances%20by%20extending%20the,be%20made%20at%20decisive%20moments.)"
      ],
      "metadata": {
        "id": "4naisx5aItgx"
      }
    },
    {
      "cell_type": "markdown",
      "source": [
        "Dictionaries: A data structure where indices don't have to be natural numbers, but can be arbitrary objects.\n",
        "- not *completely* arbitrary, actualy--if you are curious, see \"[hashable objects](https://www.pythonforthelab.com/blog/what-are-hashable-objects/)\" for a deeper dive into what is acceptable as an index, but you can ignore this for now"
      ],
      "metadata": {
        "id": "xu1BuPaXIy64"
      }
    },
    {
      "cell_type": "markdown",
      "source": [
        "Here's the notation to define a dictionary:"
      ],
      "metadata": {
        "id": "DI-wN0hbI0Cg"
      }
    },
    {
      "cell_type": "code",
      "source": [
        "d = {'arkadas': 5, 'hikmet': 10}"
      ],
      "metadata": {
        "id": "S5qIsoFFI5lq"
      },
      "execution_count": null,
      "outputs": []
    },
    {
      "cell_type": "code",
      "source": [
        "print(d)"
      ],
      "metadata": {
        "id": "uxQzg3tMI6Cy"
      },
      "execution_count": null,
      "outputs": []
    },
    {
      "cell_type": "markdown",
      "source": [
        "Accesing a **value** by using a **key**:"
      ],
      "metadata": {
        "id": "IqM0dFGsI9g6"
      }
    },
    {
      "cell_type": "code",
      "source": [
        "d['arkadas']"
      ],
      "metadata": {
        "id": "nt-ZschuI7aj"
      },
      "execution_count": null,
      "outputs": []
    },
    {
      "cell_type": "code",
      "source": [
        "print(d['hikmet'])"
      ],
      "metadata": {
        "id": "-NAKPQFGJCo8"
      },
      "execution_count": null,
      "outputs": []
    },
    {
      "cell_type": "code",
      "source": [
        "d['hazal'] = 20"
      ],
      "metadata": {
        "id": "X1NHFW8iJFit"
      },
      "execution_count": null,
      "outputs": []
    },
    {
      "cell_type": "code",
      "source": [
        "d['hazal']"
      ],
      "metadata": {
        "id": "ILjQulpGJHbu"
      },
      "execution_count": null,
      "outputs": []
    },
    {
      "cell_type": "code",
      "source": [
        "d"
      ],
      "metadata": {
        "id": "0-qzVmfXJJ_-"
      },
      "execution_count": null,
      "outputs": []
    },
    {
      "cell_type": "markdown",
      "source": [
        "Dictionaries have keys, values and items. To access them, you can use the methods `.keys()`, `.values()`, `.items()`\n",
        "\n"
      ],
      "metadata": {
        "id": "DPCpNXw_JvtD"
      }
    },
    {
      "cell_type": "code",
      "source": [
        "d.keys()"
      ],
      "metadata": {
        "id": "L3YBJ3y_KT2t"
      },
      "execution_count": null,
      "outputs": []
    },
    {
      "cell_type": "code",
      "source": [
        "d.values()"
      ],
      "metadata": {
        "id": "nzpQQ2TkKotB"
      },
      "execution_count": null,
      "outputs": []
    },
    {
      "cell_type": "code",
      "source": [
        "d.items()"
      ],
      "metadata": {
        "id": "CSrB24aeKuZ3"
      },
      "execution_count": null,
      "outputs": []
    },
    {
      "cell_type": "markdown",
      "source": [
        "You can create lists out of these if you want to"
      ],
      "metadata": {
        "id": "sDXhs8ntKzVX"
      }
    },
    {
      "cell_type": "code",
      "source": [
        "list(d.keys())"
      ],
      "metadata": {
        "id": "NJY5ma1EJ4TN"
      },
      "execution_count": null,
      "outputs": []
    },
    {
      "cell_type": "code",
      "source": [
        "d['arkadas']"
      ],
      "metadata": {
        "id": "fyVLEZGwKQfI"
      },
      "execution_count": null,
      "outputs": []
    },
    {
      "cell_type": "code",
      "source": [
        "list(d.values())"
      ],
      "metadata": {
        "id": "P8CY9EEEKSTZ"
      },
      "execution_count": null,
      "outputs": []
    },
    {
      "cell_type": "code",
      "source": [
        "d"
      ],
      "metadata": {
        "id": "rzMfh18AKSxP"
      },
      "execution_count": null,
      "outputs": []
    },
    {
      "cell_type": "code",
      "source": [
        "i = list(d.items())"
      ],
      "metadata": {
        "id": "m3d-sBbMKWEa"
      },
      "execution_count": null,
      "outputs": []
    },
    {
      "cell_type": "code",
      "source": [
        "i"
      ],
      "metadata": {
        "id": "CxUmdZFlKbCX"
      },
      "execution_count": null,
      "outputs": []
    },
    {
      "cell_type": "markdown",
      "metadata": {
        "id": "OtzBeMW1N392"
      },
      "source": [
        "# Conditionals"
      ]
    },
    {
      "cell_type": "markdown",
      "metadata": {
        "id": "fpNgG4OmN392"
      },
      "source": [
        "- One of the core building blocks of programming, exists in all(?) languages\n",
        "- Do something only if a condition holds\n",
        "- And maybe do something else if the condition doesn't hold"
      ]
    },
    {
      "cell_type": "markdown",
      "metadata": {
        "id": "dA2WVvdwN393"
      },
      "source": [
        "Syntax (how it is done in the Python language):"
      ]
    },
    {
      "cell_type": "code",
      "metadata": {
        "id": "LQqOPLDoN393"
      },
      "source": [
        "# let's use a variable\n",
        "a = 10"
      ],
      "execution_count": null,
      "outputs": []
    },
    {
      "cell_type": "code",
      "metadata": {
        "id": "eNj2cDRCN395"
      },
      "source": [
        "if a > 10:\n",
        "    print(\"Your number is bigger than 10\")\n",
        "else:\n",
        "    print(\"Your number is not bigger than 10\")"
      ],
      "execution_count": null,
      "outputs": []
    },
    {
      "cell_type": "markdown",
      "metadata": {
        "id": "n67axvfWN398"
      },
      "source": [
        "- **Indentation (space) is important in Python!**\n",
        "- We first write \"`if`\", and follow with the logical condition we want to check\n",
        "  - In this case, `a > 10`\n",
        "  - No need for parentheses\n",
        "- We then put a colon `:`\n",
        "- On the next line, we put some space, and follow with the command we want executed if our condition holds\n",
        "- Then put an `else:`, **without preceding space**\n",
        "- And on the next line, put the command you want, once again after some space\n",
        "\n",
        "Notes:\n",
        "\n",
        "- We can use tabs instead of spaces\n",
        "- Need to be consistent in our choice, though; if you put 4 spaces, then you have to continue using 4 spaces; can't switch between different numbers of spaces/tabs\n",
        "- You can execute multiple commands if your condition holds by writing them one after the other, e.g.:"
      ]
    },
    {
      "cell_type": "code",
      "source": [
        "a=10"
      ],
      "metadata": {
        "id": "lBufMacHE1V2"
      },
      "execution_count": null,
      "outputs": []
    },
    {
      "cell_type": "code",
      "metadata": {
        "id": "5tbhutmFNHCY"
      },
      "source": [
        "if a > 10:\n",
        "    print(\"Your number is bigger than 10\")\n",
        "    aprint(\"isn't that funny?\")\n",
        "else:\n",
        "    print(\"Your number is not bigger than 10\")\n",
        "    print(\"and it's not funny\")"
      ],
      "execution_count": null,
      "outputs": []
    },
    {
      "cell_type": "markdown",
      "metadata": {
        "id": "Emz_y5cyN398"
      },
      "source": [
        "For the condition in an `if` statement, you can use various things that can be interpreted as \"logical\" values by Python"
      ]
    },
    {
      "cell_type": "markdown",
      "metadata": {
        "id": "NX2FZsAlN399"
      },
      "source": [
        "Let's see what \"a>10\" is really like:"
      ]
    },
    {
      "cell_type": "code",
      "metadata": {
        "id": "p6aULQ7sN399"
      },
      "source": [
        "print(a>10)"
      ],
      "execution_count": null,
      "outputs": []
    },
    {
      "cell_type": "markdown",
      "metadata": {
        "id": "m1Rafn8tNRzN"
      },
      "source": [
        "This is not a string, i.e., it prints as \"`False`\", but it is not the string \"False\", it is a logical value."
      ]
    },
    {
      "cell_type": "code",
      "metadata": {
        "id": "nw5v4iuaN3-C"
      },
      "source": [
        "x = a < 100"
      ],
      "execution_count": null,
      "outputs": []
    },
    {
      "cell_type": "code",
      "metadata": {
        "id": "CuLXgVowNcrk"
      },
      "source": [
        "print(x)"
      ],
      "execution_count": null,
      "outputs": []
    },
    {
      "cell_type": "markdown",
      "metadata": {
        "id": "M7Yt77tiNkc5"
      },
      "source": [
        "You can set variables to logical values directly, you don't have to test for a specific condition"
      ]
    },
    {
      "cell_type": "code",
      "metadata": {
        "id": "YAxhK7rhzRvt"
      },
      "source": [
        "x = True\n",
        "# note that we did not use any quotes! this is not the string \"True\", it is the logical value True"
      ],
      "execution_count": null,
      "outputs": []
    },
    {
      "cell_type": "code",
      "metadata": {
        "id": "uK7FYXlmN3-E"
      },
      "source": [
        "print(x)"
      ],
      "execution_count": null,
      "outputs": []
    },
    {
      "cell_type": "markdown",
      "metadata": {
        "id": "uplo_vdgPcdU"
      },
      "source": [
        "Just as we can add or subtract numbers, we can perform logical operations on logical variables:"
      ]
    },
    {
      "cell_type": "code",
      "metadata": {
        "id": "3gSRJSR5y50t"
      },
      "source": [
        "print (x or (not x))"
      ],
      "execution_count": null,
      "outputs": []
    },
    {
      "cell_type": "markdown",
      "metadata": {
        "id": "iQIovs7ZN3-G"
      },
      "source": [
        "- We tested for an inequality. How about an equality?\n",
        "- Can we say \"`if x = 10`\"?\n",
        "- No, we saw that \"=\" has a different meaning; it is used for assignment\n",
        "- For comparisons/equality tests, we use a pair of equals signs `==` (no space between)\n",
        "  - A common mistake: using `=` when you intend to use `==`"
      ]
    },
    {
      "cell_type": "code",
      "metadata": {
        "id": "hKCZ-NLGN3-H"
      },
      "source": [
        "a = 10\n",
        "\n",
        "if a == 10:\n",
        "    print(\"your variable is ten\")"
      ],
      "execution_count": null,
      "outputs": []
    },
    {
      "cell_type": "code",
      "metadata": {
        "id": "YErMmipEN3-J"
      },
      "source": [
        "a == 10"
      ],
      "execution_count": null,
      "outputs": []
    },
    {
      "cell_type": "markdown",
      "source": [
        "- We can nest if statements (an if inside an if)\n",
        "- To do so, we need to keep track of indendation levels\n"
      ],
      "metadata": {
        "id": "yZomp3oc_nqp"
      }
    },
    {
      "cell_type": "markdown",
      "source": [
        "Let's fill in the messages here"
      ],
      "metadata": {
        "id": "tsLfKLkM_r0V"
      }
    },
    {
      "cell_type": "code",
      "source": [
        "x = 10\n",
        "if x < 10:\n",
        "    if x > 5:\n",
        "        print(\"x is greater than 5 but less than 10\")\n",
        "    else:\n",
        "        print(\"\")\n",
        "else:\n",
        "    if x < 20:\n",
        "        print(\"\")\n",
        "    else:\n",
        "        print(\"\")"
      ],
      "metadata": {
        "id": "VY4K6vje_tNu"
      },
      "execution_count": null,
      "outputs": []
    },
    {
      "cell_type": "markdown",
      "source": [
        "Nesting like this is **not** recommended--makes code hard to read!"
      ],
      "metadata": {
        "id": "MejkAi5h_zay"
      }
    },
    {
      "cell_type": "markdown",
      "source": [
        "The \"**elif**\": Helps reduce the number of levels of indentation. Most easily shown with an example:"
      ],
      "metadata": {
        "id": "tg0UXzJJ_0xu"
      }
    },
    {
      "cell_type": "code",
      "source": [
        "x = 6\n",
        "\n",
        "if x > 10:\n",
        "  print(\"x is greater than 10\")\n",
        "elif x > 5:\n",
        "  print(\"x is greater than 5, and less than or equal to 10\")\n",
        "elif x > 0:\n",
        "  print(\"x is greater than 0, and less than or equal to 5\")\n",
        "else:\n",
        "  print(\"x is less than or equal to 0\")"
      ],
      "metadata": {
        "id": "mO9g0TMS_tHO"
      },
      "execution_count": null,
      "outputs": []
    },
    {
      "cell_type": "markdown",
      "source": [
        "# Exercise: Average of a list"
      ],
      "metadata": {
        "id": "ZMp_UJM8C9Vj"
      }
    },
    {
      "cell_type": "markdown",
      "source": [
        "We have defined a list\n",
        "\n",
        "```\n",
        "numbers = [12,35,44,6,22,8,0,7,3,3]\n",
        "```\n",
        "From this list, your assignment is to find the average of the list. If the average is odd, print \"odd\", and if the average is even, print \"even\"\n",
        "\n"
      ],
      "metadata": {
        "id": "C2LNvNeFEEij"
      }
    },
    {
      "cell_type": "markdown",
      "source": [
        "Hint: You can use the `sum()` function, where `sum(a)` returns the sum of the list `a`. For the division, you can use integer division `//`.\n",
        "\n"
      ],
      "metadata": {
        "id": "n4LWiPOhLASi"
      }
    },
    {
      "cell_type": "code",
      "source": [
        "numbers = [12,35,44,6,22,8,0,7,3,3]"
      ],
      "metadata": {
        "id": "eh3IJSROEDv3"
      },
      "execution_count": null,
      "outputs": []
    },
    {
      "cell_type": "code",
      "source": [
        "#Your code goes here"
      ],
      "metadata": {
        "id": "BF-agmwJErvF"
      },
      "execution_count": null,
      "outputs": []
    },
    {
      "cell_type": "markdown",
      "source": [
        "When you finish the assignment, paste your code into the moodle quiz."
      ],
      "metadata": {
        "id": "eA3EA-52Etf5"
      }
    },
    {
      "cell_type": "markdown",
      "source": [
        "# Exercise for the Adventurous 1: Swapping the Elements of a list"
      ],
      "metadata": {
        "id": "rO77eb49z191"
      }
    },
    {
      "cell_type": "markdown",
      "source": [
        "In the first part of this lecture, we swapped the first and the last elements of the list. Now, try to do what without defining an intermediate variable."
      ],
      "metadata": {
        "id": "khfOlwJRz7NJ"
      }
    },
    {
      "cell_type": "code",
      "source": [
        "mylist = [1,2,3,4,5,6,7]"
      ],
      "metadata": {
        "id": "3LnVTahJ0woE"
      },
      "execution_count": null,
      "outputs": []
    },
    {
      "cell_type": "code",
      "source": [
        "#Your code goes here"
      ],
      "metadata": {
        "id": "yNmsA2N502Sl"
      },
      "execution_count": null,
      "outputs": []
    },
    {
      "cell_type": "markdown",
      "source": [
        "# Exercise for the Adventurous 2: New Data Types"
      ],
      "metadata": {
        "id": "yan5qCggDRj9"
      }
    },
    {
      "cell_type": "markdown",
      "source": [
        "Study the following additional data types:\n",
        "\n",
        "- `set`: represents something like mathematical sets. you can compute intersections, unions. try it!\n",
        "- `frozenset`: similar to `set`, but can't be updated once set. this is useful when you need to guarantee that a set is not changed over time.\n",
        "- Additional data types within the `collections` module:\n",
        "  - `Counter`: for counting multiple occurrences of elements\n",
        "  - `OrderedDict`: like `dict`, but keeps track of the order in which the key-value pairs were inserted\n",
        "  - `deque`: like a queue with two ends. you can push elements from both ends, and \"pop\" them."
      ],
      "metadata": {
        "id": "JWW-CHQxtz_8"
      }
    }
  ]
}